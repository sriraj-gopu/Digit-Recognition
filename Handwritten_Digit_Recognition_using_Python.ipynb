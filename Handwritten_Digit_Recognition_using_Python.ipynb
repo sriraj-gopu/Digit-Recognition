{
  "nbformat": 4,
  "nbformat_minor": 0,
  "metadata": {
    "colab": {
      "name": "Handwritten Digit Recognition using Python.ipynb",
      "provenance": [],
      "collapsed_sections": []
    },
    "kernelspec": {
      "name": "python376jvsc74a57bd06fbe0752007d776aa4dd5411ef0680d07fe7b9c1276c770f58cba107d430ee5e",
      "display_name": "Python 3.7.6 64-bit ('base': conda)"
    },
    "language_info": {
      "name": "python",
      "version": "3.7.6"
    },
    "accelerator": "GPU"
  },
  "cells": [
    {
      "cell_type": "markdown",
      "metadata": {
        "id": "R4-PVmybKjHZ"
      },
      "source": [
        "# Handwritten Digit Recognition using Python"
      ]
    },
    {
      "cell_type": "code",
      "metadata": {
        "colab": {
          "base_uri": "https://localhost:8080/"
        },
        "id": "XFczvAF2KpRQ",
        "outputId": "6dcdae54-899f-4b1a-bae4-1d5f1cf31dc8"
      },
      "source": [
        "import keras #Importing Keras\n",
        "from keras.datasets import mnist #Importinh MNIST dataset from the inbuilt datasets in Keras\n",
        "from keras.models import Sequential #Importing Sequencial Model\n",
        "from keras.layers import Dense, Dropout, Flatten    #Importing dense, dropout and flatten layers\n",
        "from keras.layers import Conv2D, MaxPooling2D   #Importing Conv2D and MaxPooling2D\n",
        "from keras import backend as K  #Importing backend from keras\n",
        "\n",
        "\n",
        "# Splitting the data between train and test sets\n",
        "(x_train, y_train), (x_test, y_test) = mnist.load_data()\n",
        "\n",
        "print(x_train.shape, y_train.shape) #Printing the dimensions of training data"
      ],
      "execution_count": 1,
      "outputs": [
        {
          "output_type": "stream",
          "name": "stdout",
          "text": [
            "(60000, 28, 28) (60000,)\n"
          ]
        }
      ]
    },
    {
      "cell_type": "code",
      "metadata": {
        "colab": {
          "base_uri": "https://localhost:8080/"
        },
        "id": "LRdveS-faCja",
        "outputId": "7607cf94-01af-4399-b4be-7b31450d6f5c"
      },
      "source": [
        "x_train = x_train.reshape(x_train.shape[0], 28, 28, 1)\n",
        "x_test = x_test.reshape(x_test.shape[0], 28, 28, 1)\n",
        "#Reshaping thw z_train and x_test data based on the needs\n",
        "input_shape = (28, 28, 1)\n",
        "#Storing the input shape of the training data in a variable\n",
        "num_classes = 10\n",
        "\n",
        "# convert class vectors to binary class matrices\n",
        "from keras.utils import to_categorical\n",
        "y_train = to_categorical(y_train, num_classes)\n",
        "y_test = to_categorical(y_test, num_classes)\n",
        "#Converting y_train and y_test to num_classes\n",
        "\n",
        "\n",
        "x_train = x_train.astype('float32')\n",
        "x_test = x_test.astype('float32')\n",
        "#Converting x_train & x_test into float of 32 bits\n",
        "\n",
        "x_train /= 255\n",
        "x_test /= 255\n",
        "#Dividing x_train & x_test with 255 as it is the maximum value of byte so this will ensure that the input features are scaled between 0.0 and 1.0.\n",
        "\n",
        "\n",
        "#printing x_train shape and number of samples in x_train & x_test data\n",
        "print('x_train shape:', x_train.shape)\n",
        "print(x_train.shape[0], 'train samples')\n",
        "print(x_test.shape[0], 'test samples')"
      ],
      "execution_count": 2,
      "outputs": [
        {
          "output_type": "stream",
          "name": "stdout",
          "text": [
            "x_train shape: (60000, 28, 28, 1)\n60000 train samples\n10000 test samples\n"
          ]
        }
      ]
    },
    {
      "cell_type": "code",
      "metadata": {
        "id": "EmaWV9IdaGgy"
      },
      "source": [
        "batch_size = 128\n",
        "num_classes = 10\n",
        "epochs = 10\n",
        "#Defining batch_size, bun_classes and epochs\n",
        "\n",
        "#Creating the model\n",
        "model = Sequential()\n",
        "#Adding a Conv2D layer with 32 filters, defining kernel size,activation function and input shape\n",
        "model.add(Conv2D(32, kernel_size=(3, 3),activation='relu',input_shape=input_shape)) \n",
        "model.add(Conv2D(64, (3, 3), activation='relu'))    #Adding a Conv2D layer with 64 filters\n",
        "model.add(MaxPooling2D(pool_size=(2, 2)))           #Adding a MaxPooling2D layer\n",
        "model.add(Dropout(0.25))                            #Adding a Dropout layer\n",
        "model.add(Flatten())                                #Adding the Flatten layer\n",
        "model.add(Dense(256, activation='relu'))            #Adding the dense layer\n",
        "model.add(Dropout(0.5))                             #Adding another Dropout layer\n",
        "model.add(Dense(num_classes, activation='softmax')) #Adding Dense layer\n",
        "\n",
        "model.compile(loss=keras.losses.categorical_crossentropy,optimizer=keras.optimizers.Adadelta(),metrics=['accuracy'])    #Compiling the model using Adadeltaoptimizer"
      ],
      "execution_count": 3,
      "outputs": []
    },
    {
      "cell_type": "code",
      "metadata": {
        "colab": {
          "base_uri": "https://localhost:8080/"
        },
        "id": "A_3WGIe1eOlw",
        "outputId": "b290e83f-adba-466e-98b7-755e005ba36f"
      },
      "source": [
        "hist = model.fit(x_train, y_train,batch_size=batch_size,epochs=epochs,verbose=1,validation_data=(x_test, y_test))   #Training the model\n",
        "print(\"The model has successfully trained\")\n",
        "\n",
        "model.save('mnist.h5')\n",
        "print(\"Saving the model as mnist.h5\")   #Saving the model to mnist.h5"
      ],
      "execution_count": 4,
      "outputs": [
        {
          "output_type": "stream",
          "name": "stdout",
          "text": [
            "Epoch 1/10\n",
            "469/469 [==============================] - 65s 138ms/step - loss: 2.2949 - accuracy: 0.1284 - val_loss: 2.2811 - val_accuracy: 0.2328\n",
            "Epoch 2/10\n",
            "469/469 [==============================] - 75s 160ms/step - loss: 2.2714 - accuracy: 0.2139 - val_loss: 2.2534 - val_accuracy: 0.3808\n",
            "Epoch 3/10\n",
            "469/469 [==============================] - 79s 169ms/step - loss: 2.2427 - accuracy: 0.3020 - val_loss: 2.2176 - val_accuracy: 0.5081\n",
            "Epoch 4/10\n",
            "469/469 [==============================] - 78s 167ms/step - loss: 2.2032 - accuracy: 0.3784 - val_loss: 2.1670 - val_accuracy: 0.5927\n",
            "Epoch 5/10\n",
            "469/469 [==============================] - 79s 169ms/step - loss: 2.1459 - accuracy: 0.4453 - val_loss: 2.0921 - val_accuracy: 0.6493\n",
            "Epoch 6/10\n",
            "469/469 [==============================] - 80s 171ms/step - loss: 2.0609 - accuracy: 0.5015 - val_loss: 1.9803 - val_accuracy: 0.6947\n",
            "Epoch 7/10\n",
            "469/469 [==============================] - 81s 172ms/step - loss: 1.9381 - accuracy: 0.5508 - val_loss: 1.8171 - val_accuracy: 0.7307\n",
            "Epoch 8/10\n",
            "469/469 [==============================] - 81s 173ms/step - loss: 1.7634 - accuracy: 0.5956 - val_loss: 1.5958 - val_accuracy: 0.7620\n",
            "Epoch 9/10\n",
            "469/469 [==============================] - 81s 173ms/step - loss: 1.5512 - accuracy: 0.6304 - val_loss: 1.3410 - val_accuracy: 0.7862\n",
            "Epoch 10/10\n",
            "469/469 [==============================] - 81s 173ms/step - loss: 1.3344 - accuracy: 0.6624 - val_loss: 1.1044 - val_accuracy: 0.8057\n",
            "The model has successfully trained\n",
            "Saving the model as mnist.h5\n"
          ]
        }
      ]
    },
    {
      "cell_type": "code",
      "metadata": {
        "colab": {
          "base_uri": "https://localhost:8080/"
        },
        "id": "dz_GwmuGePU9",
        "outputId": "9415d7d5-af56-460a-e998-a92c5fe87e7e"
      },
      "source": [
        "score = model.evaluate(x_test, y_test, verbose=0)\n",
        "print('Test loss:', score[0])                       #Evaluating the score of the model and printing the test loss 7 test accuracy\n",
        "print('Test accuracy:', score[1])"
      ],
      "execution_count": 5,
      "outputs": [
        {
          "output_type": "stream",
          "name": "stdout",
          "text": [
            "Test loss: 1.1044260263442993\nTest accuracy: 0.8057000041007996\n"
          ]
        }
      ]
    },
    {
      "cell_type": "code",
      "metadata": {
        "id": "z0TDBVKHeuAJ"
      },
      "source": [
        "#Digit Classifier GUI\n",
        "\n",
        "\n",
        "#Importing libraries\n",
        "from keras.models import load_model\n",
        "from tkinter import *\n",
        "import tkinter as tk\n",
        "from win32 import win32gui\n",
        "from PIL import ImageGrab, Image\n",
        "import numpy as np\n",
        "\n",
        "model = load_model('mnist.h5') #Loading the previously trained model\n",
        "\n",
        "def predict_digit(img):\n",
        "    #resize image to 28x28 pixels\n",
        "    img = img.resize((28,28))\n",
        "    #convert rgb to grayscale\n",
        "    img = img.convert('L')\n",
        "    img = np.array(img)\n",
        "    #reshaping to support our model input and normalizing\n",
        "    img = img.reshape(1,28,28,1)\n",
        "    img = img/255.0\n",
        "    #predicting the class\n",
        "    res = model.predict([img])[0]\n",
        "    return np.argmax(res), max(res)\n",
        "\n",
        "class App(tk.Tk):\n",
        "    def __init__(self):\n",
        "        tk.Tk.__init__(self)\n",
        "\n",
        "        self.x = self.y = 0\n",
        "\n",
        "        # Creating elements\n",
        "        self.canvas = tk.Canvas(self, width=300, height=300, bg = \"white\", cursor=\"cross\")\n",
        "        self.label = tk.Label(self, text=\"Thinking..\", font=(\"Helvetica\", 48))\n",
        "        self.classify_btn = tk.Button(self, text = \"Recognise\", command =         self.classify_handwriting) \n",
        "        self.button_clear = tk.Button(self, text = \"Clear\", command = self.clear_all)\n",
        "\n",
        "        # Grid structure\n",
        "        self.canvas.grid(row=0, column=0, pady=2, sticky=W, )\n",
        "        self.label.grid(row=0, column=1,pady=2, padx=2)\n",
        "        self.classify_btn.grid(row=1, column=1, pady=2, padx=2)\n",
        "        self.button_clear.grid(row=1, column=0, pady=2)\n",
        "\n",
        "        #self.canvas.bind(\"<Motion>\", self.start_pos)\n",
        "        self.canvas.bind(\"<B1-Motion>\", self.draw_lines)\n",
        "\n",
        "    def clear_all(self):\n",
        "        self.canvas.delete(\"all\")\n",
        "\n",
        "    def classify_handwriting(self):\n",
        "        HWND = self.canvas.winfo_id() # get the handle of the canvas\n",
        "        rect = win32gui.GetWindowRect(HWND) # get the coordinate of the canvas\n",
        "        im = ImageGrab.grab(rect)\n",
        "\n",
        "        digit, acc = predict_digit(im)\n",
        "        self.label.configure(text= str(digit)+', '+ str(int(acc*100))+'%')\n",
        "\n",
        "    def draw_lines(self, event):\n",
        "        self.x = event.x\n",
        "        self.y = event.y\n",
        "        r=8\n",
        "        self.canvas.create_oval(self.x-r, self.y-r, self.x + r, self.y + r, fill='black')\n",
        "\n",
        "app = App()\n",
        "mainloop()"
      ],
      "execution_count": 6,
      "outputs": []
    },
    {
      "cell_type": "code",
      "execution_count": null,
      "metadata": {},
      "outputs": [],
      "source": []
    }
  ]
}